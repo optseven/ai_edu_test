{
 "cells": [
  {
   "cell_type": "code",
   "execution_count": 1,
   "metadata": {},
   "outputs": [],
   "source": [
    "import torch.nn as nn\n",
    "import torch\n",
    "import torch.nn.utils.rnn as rnn\n",
    "import statistics\n",
    "import nltk # 없으시면 설치하세요: pip install nltk\n",
    "import random\n",
    "import collections\n",
    "import time"
   ]
  },
  {
   "cell_type": "code",
   "execution_count": 2,
   "metadata": {},
   "outputs": [],
   "source": [
    "device = torch.device('cuda' if torch.cuda.is_available() else 'cpu')"
   ]
  },
  {
   "cell_type": "code",
   "execution_count": 3,
   "metadata": {},
   "outputs": [],
   "source": [
    "## Dictionary class 선언\n",
    "class Dictionary(object):\n",
    "    def __init__(self, dataset, size):\n",
    "        ## init vocab ##\n",
    "        self.word2idx = {'<pad>':0, '<sos>': 1, '<eos>': 2, '<unk>': 3} # 사전, unk : 사전에 없는 단어 인덱스로 받기 \n",
    "        self.idx2word = ['<pad>', '<sos>', '<eos>', '<unk>'] # inverted dictionary\n",
    "        # self.word2idx['<unk>'] --> 3\n",
    "        # self.idx2word[3] = '<unk>'\n",
    "        \n",
    "        self.build_dict(dataset, size)\n",
    "    \n",
    "    def __call__(self, word):\n",
    "        return self.word2idx.get(word, self.word2idx['<unk>']) # if word does not exist in vocab then return unk idx\n",
    "\n",
    "    def add_word(self, word):\n",
    "        if word not in self.word2idx:\n",
    "            self.idx2word.append(word)\n",
    "            self.word2idx[word] = len(self.idx2word) - 1\n",
    "        return self.word2idx[word]\n",
    "\n",
    "    def build_dict(self, dataset, dict_size):\n",
    "        ## Practice ##\n",
    "        \"\"\"Tokenize a text file.\"\"\"\n",
    "        # (the, the, a, boy, girl, ..,)\n",
    "        total_words = (word for sent in dataset for word in sent) # store all words into tuple \n",
    "        \n",
    "        # ('The': 10000, 'a': 5555, 'girl': 3400, ...)\n",
    "        word_freq = collections.Counter(total_words)# count the number of each word: ex) \n",
    "        \n",
    "        vocab = sorted(word_freq.keys(), key=lambda word: (word_freq[word], word), reverse=True) # Practice: sort by frequency\n",
    "        vocab = vocab[:dict_size] # truncate\n",
    "        \n",
    "        for word in vocab:\n",
    "            self.add_word(word)\n",
    "\n",
    "    def __len__(self):\n",
    "        return len(self.idx2word)\n"
   ]
  },
  {
   "cell_type": "code",
   "execution_count": 4,
   "metadata": {},
   "outputs": [],
   "source": [
    "## Brown dataset Preprocessing (NLTK)\n",
    "def brown_dataset(min=5, max=30):\n",
    "    nltk.download('brown')\n",
    "\n",
    "    # get sentences with the length between min and max\n",
    "    # convert all words into lower-case\n",
    "    all_seq = [[token.lower() for token in seq] for seq in nltk.corpus.brown.sents() \n",
    "               if min <= len(seq) <= max]\n",
    "\n",
    "    random.shuffle(all_seq) # shuffle\n",
    "    return all_seq"
   ]
  },
  {
   "cell_type": "code",
   "execution_count": 5,
   "metadata": {},
   "outputs": [
    {
     "name": "stderr",
     "output_type": "stream",
     "text": [
      "[nltk_data] Downloading package brown to /root/nltk_data...\n",
      "[nltk_data]   Package brown is already up-to-date!\n"
     ]
    },
    {
     "name": "stdout",
     "output_type": "stream",
     "text": [
      "43450\n",
      "['but', ',', 'considered', 'within', 'technical', 'astronomy', ',', 'a', 'different', 'pattern', 'can', 'be', 'traced', '.']\n",
      "['my', 'spoon', 'stirring', 'coffee', ',', 'banging', 'against', 'the', 'side', 'of', 'the', 'cup', ',', 'sounded', 'as', 'loud', 'as', 'a', 'bell', '.']\n",
      "['ranke', 'and', 'his', 'disciples', 'had', 'reduced', 'history', 'to', 'a', 'profession', 'of', 'dullness', ';', ';']\n"
     ]
    }
   ],
   "source": [
    "## Download Brown dataset\n",
    "dataset = brown_dataset()\n",
    "print(len(dataset))\n",
    "\n",
    "## print some part\n",
    "print(dataset[0])\n",
    "print(dataset[1])\n",
    "print(dataset[2])"
   ]
  },
  {
   "cell_type": "code",
   "execution_count": 6,
   "metadata": {},
   "outputs": [],
   "source": [
    "## Data handler class 선언\n",
    "class Corpus(object):\n",
    "    def __init__(self, dataset, device, dict_size=20000, train_ratio=0.97):\n",
    "        train_size = int(len(dataset) * train_ratio)\n",
    "        self.device = device\n",
    "        self.dictionary = Dictionary(dataset, dict_size)\n",
    "        self.train = dataset[:train_size] # [0 ~ train_size]\n",
    "        self.valid = dataset[train_size:] # [train_size: len(dataset)]\n",
    "\n",
    "    def indexing(self, dat):\n",
    "        # dat = list(list)   [['we', 'are', 'the', 'word'], [\"hi\", \"my\", \"name\", ...\"\"]]\n",
    "        src_idxes = [] # 모델 입력\n",
    "        tgt_idxes = [] # 모델 정답\n",
    "        for sent in dat:\n",
    "            src_idx = [self.dictionary('<sos>')] + [self.dictionary(word) for word in sent]\n",
    "            tgt_idx = [self.dictionary(word) for word in sent] + [self.dictionary('<eos>')]\n",
    "            src_idxes.append(torch.tensor(src_idx).type(torch.int64))\n",
    "            tgt_idxes.append(torch.tensor(tgt_idx).type(torch.int64))\n",
    "        \n",
    "        # shape = [B, L],\n",
    "        src_idxes = rnn.pad_sequence(src_idxes, batch_first=True).to(self.device) # [batch, length]\n",
    "        \n",
    "        # flatten shape = [B * L] \n",
    "        tgt_idxes = rnn.pad_sequence(tgt_idxes, batch_first=True).to(self.device).view(-1) # [batch * length]\n",
    "\n",
    "        return src_idxes, tgt_idxes\n",
    "\n",
    "    def batch_iter(self, batch_size, isTrain=True):\n",
    "        dat = self.train if isTrain else self.valid\n",
    "        if isTrain:\n",
    "            random.shuffle(dat)\n",
    "\n",
    "        for i in range(len(dat) // batch_size):\n",
    "            batch = dat[i * batch_size: (i+1) * batch_size]\n",
    "            src, tgt = self.indexing(batch)\n",
    "            yield {'src': src, 'tgt': tgt}"
   ]
  },
  {
   "cell_type": "code",
   "execution_count": 7,
   "metadata": {},
   "outputs": [],
   "source": [
    "corpus = Corpus(dataset, device)"
   ]
  },
  {
   "cell_type": "code",
   "execution_count": 8,
   "metadata": {},
   "outputs": [
    {
     "name": "stdout",
     "output_type": "stream",
     "text": [
      "word:  <pad>      | index:     0 \n",
      "word:  <sos>      | index:     1 \n",
      "word:  <eos>      | index:     2 \n",
      "word:  <unk>      | index:     3 \n",
      "word:  the        | index:     4 \n",
      "word:  .          | index:     5 \n",
      "word:  ,          | index:     6 \n",
      "word:  of         | index:     7 \n",
      "word:  and        | index:     8 \n",
      "word:  to         | index:     9 \n",
      "word:  a          | index:    10 \n",
      "word:  in         | index:    11 \n",
      "word:  was        | index:    12 \n",
      "word:  he         | index:    13 \n",
      "word:  is         | index:    14 \n",
      "word:  ''         | index:    15 \n",
      "word:  ``         | index:    16 \n",
      "word:  it         | index:    17 \n",
      "word:  that       | index:    18 \n",
      "word:  for        | index:    19 \n",
      "word:  ;          | index:    20 \n"
     ]
    }
   ],
   "source": [
    "# Dictionary 확인\n",
    "for i, (key, val) in enumerate(corpus.dictionary.word2idx.items()):\n",
    "    print('word:  {:10s} | index: {:5d} '.format(key, val))\n",
    "    if i == 20:\n",
    "        break"
   ]
  },
  {
   "cell_type": "code",
   "execution_count": 9,
   "metadata": {},
   "outputs": [
    {
     "name": "stdout",
     "output_type": "stream",
     "text": [
      "[['my', 'spoon', 'stirring', 'coffee', ',', 'banging', 'against', 'the', 'side', 'of', 'the', 'cup', ',', 'sounded', 'as', 'loud', 'as', 'a', 'bell', '.']]\n",
      "tensor([[    1,    86,  9174,  5192,  1200,     6, 12045,   169,     4,   235,\n",
      "             7,     4,  2278,     6,  2555,    25,  4684,    25,    10,  4799,\n",
      "             5]], device='cuda:0')\n",
      "tensor([   86,  9174,  5192,  1200,     6, 12045,   169,     4,   235,     7,\n",
      "            4,  2278,     6,  2555,    25,  4684,    25,    10,  4799,     5,\n",
      "            2], device='cuda:0')\n",
      "------------------------------------------------------------------------------------------\n",
      "[['but', ',', 'considered', 'within', 'technical', 'astronomy', ',', 'a', 'different', 'pattern', 'can', 'be', 'traced', '.'], ['my', 'spoon', 'stirring', 'coffee', ',', 'banging', 'against', 'the', 'side', 'of', 'the', 'cup', ',', 'sounded', 'as', 'loud', 'as', 'a', 'bell', '.']]\n",
      "tensor([[    1,    34,     6,   718,   277,   841,  3505,     6,    10,   303,\n",
      "          1037,    66,    26, 10452,     5,     0,     0,     0,     0,     0,\n",
      "             0],\n",
      "        [    1,    86,  9174,  5192,  1200,     6, 12045,   169,     4,   235,\n",
      "             7,     4,  2278,     6,  2555,    25,  4684,    25,    10,  4799,\n",
      "             5]], device='cuda:0')\n",
      "tensor([   34,     6,   718,   277,   841,  3505,     6,    10,   303,  1037,\n",
      "           66,    26, 10452,     5,     2,     0,     0,     0,     0,     0,\n",
      "            0,    86,  9174,  5192,  1200,     6, 12045,   169,     4,   235,\n",
      "            7,     4,  2278,     6,  2555,    25,  4684,    25,    10,  4799,\n",
      "            5,     2], device='cuda:0')\n"
     ]
    }
   ],
   "source": [
    "## indexing 함수 결과 확인\n",
    "\n",
    "# case : 단일 문장 입력 시. \n",
    "sent = [dataset[1]]\n",
    "idx_src, idx_tgt = corpus.indexing(sent)\n",
    "\n",
    "print(sent)\n",
    "print(idx_src) # <SOS> index로 시작\n",
    "print(idx_tgt) # <EOS> index로 종료\n",
    "\n",
    "print('-' * 90)\n",
    "## case : 복수 문장 입력 시 (batching)\n",
    "batch = [dataset[0], dataset[1]]\n",
    "idx_src, idx_tgt = corpus.indexing(batch)\n",
    "\n",
    "print(batch)\n",
    "print(idx_src) # 가장 길이가 긴 문장 (dataset[0]) 보다 짧은 문장 (dataset[1]) 의 경우 남는 길이만큼 padding=0 삽입 확인.\n",
    "print(idx_tgt)"
   ]
  },
  {
   "cell_type": "code",
   "execution_count": 10,
   "metadata": {},
   "outputs": [
    {
     "name": "stdout",
     "output_type": "stream",
     "text": [
      "he had no love how much time strasbourg would felt him .\n"
     ]
    }
   ],
   "source": [
    "# Practice\n",
    "\n",
    "# Convert word indices to word with corpus.dictionary\n",
    "word_indices = [13, 29, 56, 458, 120, 109, 78, 9149, 49, 239, 47, 5]\n",
    "\n",
    "words = [corpus.dictionary.idx2word[idx] for idx in word_indices]\n",
    "print(\" \".join(words))"
   ]
  },
  {
   "cell_type": "markdown",
   "metadata": {},
   "source": [
    "# RNN Model\n",
    "![모델구조](LM_model.png)"
   ]
  },
  {
   "cell_type": "code",
   "execution_count": 11,
   "metadata": {},
   "outputs": [],
   "source": [
    "## RNN Language model 선언\n",
    "\n",
    "# Define network\n",
    "class RNNModel(nn.Module):\n",
    "    def __init__(self, ntoken, hidden_size, nlayers, dropout=0.1):\n",
    "        super(RNNModel, self).__init__()\n",
    "        # ntoken: size of vocab\n",
    "        # hidden: size of hidden vector\n",
    "        \n",
    "        self.drop = nn.Dropout(dropout)\n",
    "        self.embeddings = nn.Embedding(ntoken, hidden_size)  # Practice: build embedding layer \n",
    "        self.rnn = nn.LSTM(hidden_size, hidden_size, nlayers, dropout=dropout, batch_first=True) # Practice: build LSTM layer\n",
    "        self.output_layer = nn.Linear(hidden_size, ntoken) # Practice: build output projection layer (hidden -> vocab size)\n",
    "        self.sm = nn.LogSoftmax(dim=-1) # log확률값, 과제에서는 더하기만 해주면 된다. \n",
    "\n",
    "        self.ntoken = ntoken\n",
    "        self.hidden_size = hidden_size\n",
    "        self.nlayers = nlayers\n",
    "\n",
    "        self.init_weights()\n",
    "\n",
    "    def init_weights(self):\n",
    "        initrange = 0.1\n",
    "        self.embeddings.weight.data.uniform_(-initrange, initrange)\n",
    "        self.output_layer.weight.data.uniform_(-initrange, initrange)\n",
    "        self.output_layer.bias.data.zero_()\n",
    "\n",
    "    def forward(self, inputs, hidden):\n",
    "        # shape(input) = [Batch, length]\n",
    "            emb = self.embeddings(inputs) # emb = (batch, length, dim)\n",
    "            output, hidden = self.rnn(emb, hidden) # output = (batch. length. dim)\n",
    "            output = self.drop(output)\n",
    "            output = self.output_layer(output) # output = (batch, length, vocab_size)\n",
    "            output = output.view(-1, self.ntoken) # output = (batch * length, vocab_size)\n",
    "\n",
    "            return self.sm(output), hidden\n",
    "\n",
    "    def init_hidden(self, bsz):\n",
    "        weight = next(self.parameters()) # to set init tensor with the same torch.dtype and torch.device\n",
    "        return (weight.new_zeros(self.nlayers, bsz, self.hidden_size),\n",
    "                weight.new_zeros(self.nlayers, bsz, self.hidden_size))\n"
   ]
  },
  {
   "cell_type": "code",
   "execution_count": 12,
   "metadata": {},
   "outputs": [
    {
     "name": "stderr",
     "output_type": "stream",
     "text": [
      "/root/anaconda3/lib/python3.8/site-packages/torch/nn/modules/rnn.py:62: UserWarning: dropout option adds dropout after all but last recurrent layer, so non-zero dropout expects num_layers greater than 1, but got dropout=0.2 and num_layers=1\n",
      "  warnings.warn(\"dropout option adds dropout after all but last \"\n"
     ]
    }
   ],
   "source": [
    "# Hyperparameters\n",
    "batch_size = 40\n",
    "hidden_size = 256\n",
    "dropout = 0.2\n",
    "max_epoch = 30\n",
    "\n",
    "# build model\n",
    "ntokens = len(corpus.dictionary)\n",
    "model = RNNModel(ntokens, hidden_size, 1, dropout).to(device)\n",
    "\n",
    "isTrain=True # Flag variable\n",
    "#isTrain=False # 이미 학습한 모델을 단순히 load만 수행하고 학습 X\n",
    "\n",
    "# set loss func and optimizer\n",
    "optimizer = torch.optim.Adam(model.parameters(), lr=0.005)\n",
    "criterion = nn.NLLLoss(ignore_index=0, reduction='mean')"
   ]
  },
  {
   "cell_type": "code",
   "execution_count": 13,
   "metadata": {},
   "outputs": [],
   "source": [
    "##### Training / Evaluation Parts #######"
   ]
  },
  {
   "cell_type": "code",
   "execution_count": 14,
   "metadata": {},
   "outputs": [],
   "source": [
    "# accuracy\n",
    "def cal_acc(scores, target):\n",
    "    pred = scores.max(-1)[1]\n",
    "    non_pad = target.ne(0)\n",
    "    num_correct = pred.eq(target).masked_select(non_pad).sum().item() \n",
    "    num_non_pad = non_pad.sum().item()\n",
    "    return 100 * (num_correct / num_non_pad)"
   ]
  },
  {
   "cell_type": "markdown",
   "metadata": {},
   "source": [
    "# Training\n",
    "![학습](LM_train.png)"
   ]
  },
  {
   "cell_type": "code",
   "execution_count": 15,
   "metadata": {},
   "outputs": [],
   "source": [
    "# train func.\n",
    "def train():\n",
    "    model.train() # Turn on training mode which enables dropout.\n",
    "    mean_loss = []\n",
    "    mean_acc = []\n",
    "    start_time = time.time()\n",
    "\n",
    "    for batch in corpus.batch_iter(batch_size):\n",
    "        hidden = model.init_hidden(batch_size) # zero vectors for init hidden\n",
    "        target = batch['tgt'] # flattened target \n",
    "        optimizer.zero_grad()\n",
    "        output, hidden = model(batch['src'], hidden) # output = flatten output = [Batch_size * Length, vocab_size]\n",
    "\n",
    "        # output shape = (batch * length, vocab_size)\n",
    "        # target shape = (batch * length)   --> (batch * length, vocab_size) 로 one-hot distribtuion으로 내부적으로 변환되어 비교 수행\n",
    "        loss = criterion(output, target) # compare between vocab_prob and answer_prob(one-hot converted)\n",
    "        loss.backward()\n",
    "        optimizer.step()\n",
    "\n",
    "        mean_loss.append(loss.item())\n",
    "        mean_acc.append(cal_acc(output, target))\n",
    "\n",
    "    total_time = time.time() - start_time\n",
    "    mean_acc = statistics.mean(mean_acc)\n",
    "    mean_loss = statistics.mean(mean_loss)\n",
    "\n",
    "    return mean_loss, total_time, mean_acc"
   ]
  },
  {
   "cell_type": "code",
   "execution_count": 16,
   "metadata": {},
   "outputs": [],
   "source": [
    "# evaluation func.\n",
    "def evaluate():\n",
    "    model.eval() # Turn off dropout\n",
    "    mean_loss = []\n",
    "    mean_acc = []\n",
    "\n",
    "    for batch in corpus.batch_iter(batch_size, isTrain=False):\n",
    "        with torch.no_grad():\n",
    "            hidden = model.init_hidden(batch_size)\n",
    "            target = batch['tgt']\n",
    "            output, hidden = model(batch['src'], hidden)\n",
    "            loss = criterion(output, target)\n",
    "            mean_loss.append(loss.item())\n",
    "            mean_acc.append(cal_acc(output, target))\n",
    "\n",
    "    mean_acc = statistics.mean(mean_acc)\n",
    "    mean_loss = statistics.mean(mean_loss)\n",
    "\n",
    "    return mean_loss, mean_acc"
   ]
  },
  {
   "cell_type": "code",
   "execution_count": 17,
   "metadata": {},
   "outputs": [
    {
     "name": "stdout",
     "output_type": "stream",
     "text": [
      "epoch    1 | times 14.846 |  loss: 5.640 | accuracy: 20.85\n",
      "epoch    2 | times 14.891 |  loss: 5.039 | accuracy: 24.05\n",
      "epoch    3 | times 14.866 |  loss: 4.688 | accuracy: 25.65\n",
      "epoch    4 | times 14.935 |  loss: 4.377 | accuracy: 27.09\n",
      "epoch    5 | times 15.027 |  loss: 4.103 | accuracy: 28.80\n",
      "epoch    6 | times 15.020 |  loss: 3.874 | accuracy: 30.46\n",
      "epoch    7 | times 15.019 |  loss: 3.687 | accuracy: 32.13\n",
      "epoch    8 | times 15.072 |  loss: 3.535 | accuracy: 33.60\n",
      "epoch    9 | times 15.137 |  loss: 3.414 | accuracy: 34.86\n",
      "epoch   10 | times 15.127 |  loss: 3.316 | accuracy: 36.02\n",
      "============================================================\n",
      "Evaluation | loss: 5.888 | accuracy: 23.40\n",
      "============================================================\n",
      "epoch   11 | times 15.116 |  loss: 3.237 | accuracy: 36.91\n",
      "epoch   12 | times 15.143 |  loss: 3.172 | accuracy: 37.66\n",
      "epoch   13 | times 15.148 |  loss: 3.119 | accuracy: 38.32\n",
      "epoch   14 | times 15.154 |  loss: 3.077 | accuracy: 38.79\n",
      "epoch   15 | times 15.148 |  loss: 3.047 | accuracy: 39.12\n",
      "epoch   16 | times 15.139 |  loss: 3.010 | accuracy: 39.64\n",
      "epoch   17 | times 15.148 |  loss: 2.990 | accuracy: 39.80\n",
      "epoch   18 | times 15.151 |  loss: 2.970 | accuracy: 40.03\n",
      "epoch   19 | times 15.159 |  loss: 2.948 | accuracy: 40.30\n",
      "epoch   20 | times 15.188 |  loss: 2.938 | accuracy: 40.39\n",
      "============================================================\n",
      "Evaluation | loss: 6.656 | accuracy: 22.64\n",
      "============================================================\n",
      "epoch   21 | times 15.171 |  loss: 2.928 | accuracy: 40.45\n",
      "epoch   22 | times 15.146 |  loss: 2.917 | accuracy: 40.59\n",
      "epoch   23 | times 15.157 |  loss: 2.913 | accuracy: 40.63\n",
      "epoch   24 | times 15.133 |  loss: 2.904 | accuracy: 40.71\n",
      "epoch   25 | times 15.149 |  loss: 2.898 | accuracy: 40.78\n",
      "epoch   26 | times 15.141 |  loss: 2.897 | accuracy: 40.72\n",
      "epoch   27 | times 15.138 |  loss: 2.897 | accuracy: 40.72\n",
      "epoch   28 | times 15.156 |  loss: 2.893 | accuracy: 40.73\n",
      "epoch   29 | times 15.132 |  loss: 2.890 | accuracy: 40.72\n",
      "epoch   30 | times 15.181 |  loss: 2.888 | accuracy: 40.76\n",
      "============================================================\n",
      "Evaluation | loss: 7.057 | accuracy: 22.55\n",
      "============================================================\n",
      "save model at: ./model.pt\n"
     ]
    }
   ],
   "source": [
    "if isTrain: # set False if you don't need to train model\n",
    "    start_time = time.time()\n",
    "\n",
    "    for epoch in range(1, max_epoch+1):\n",
    "        loss, epoch_time, accuracy = train()\n",
    "        print('epoch {:4d} | times {:3.3f} |  loss: {:3.3f} | accuracy: {:3.2f}'.format(epoch, epoch_time, loss, accuracy))\n",
    "\n",
    "        if epoch % 10 == 0:\n",
    "            loss, accuracy = evaluate()\n",
    "            print('=' * 60)\n",
    "            print('Evaluation | loss: {:3.3f} | accuracy: {:3.2f}'.format(loss, accuracy))\n",
    "            print('=' * 60)\n",
    "\n",
    "    with open('model.pt', 'wb') as f:\n",
    "        print('save model at: ./model.pt')\n",
    "        torch.save(model, f)"
   ]
  },
  {
   "cell_type": "markdown",
   "metadata": {},
   "source": [
    "# 과제1: 문장 확률 계산\n",
    "![문장확률](sent_prob_1.png)\n",
    "![문장확률](sent_prob_2.png)"
   ]
  },
  {
   "cell_type": "code",
   "execution_count": 18,
   "metadata": {},
   "outputs": [],
   "source": [
    "def pred_sent_prob(sent):\n",
    "    import numpy as np\n",
    "    model.eval()\n",
    "    with torch.no_grad():\n",
    "        # 1. 모델 입력 및 정답 문장에 대한 단어 indexing\n",
    "        src,tgt = corpus.indexing(sent)\n",
    "        \n",
    "        # 2. initial hidden 생성\n",
    "        hidden = model.init_hidden(bsz = len(sent))\n",
    "        \n",
    "        # 3. LM의 결과(확률분포) 생성\n",
    "        output, hidden = model(src, hidden)\n",
    "        \n",
    "        # 4. 모델 확률분포로부터 정답 단어의 각 index에 대한 Log 확률 값 추출.\n",
    "        word_prob = []\n",
    "        for idx, out in zip(tgt, output):\n",
    "            word_prob.append(out[idx])\n",
    "        \n",
    "        \n",
    "        # 5. log 확률의 합.\n",
    "        sent_prob = sum(word_prob)\n",
    "        \n",
    "        # 6. 결과 return (return type: float)\n",
    "        return sent_prob"
   ]
  },
  {
   "cell_type": "code",
   "execution_count": 19,
   "metadata": {},
   "outputs": [
    {
     "name": "stdout",
     "output_type": "stream",
     "text": [
      "load model from: ./model.pt\n",
      "log prob of [the dog bark .]: -38.205\n",
      "log prob of [the cat bark .]: -49.534\n",
      "log prob of [boy am a i .]: -47.058\n",
      "log prob of [i am a boy .]: -20.010\n"
     ]
    }
   ],
   "source": [
    "# load saved model\n",
    "with open('./model.pt', 'rb') as f:\n",
    "    print('load model from: ./model.pt')\n",
    "    model = torch.load(f).to(device)\n",
    "\n",
    "    print('log prob of [the dog bark .]: {:3.3f}'.format(pred_sent_prob([['the', 'dog', 'bark', '.']])))\n",
    "    print('log prob of [the cat bark .]: {:3.3f}'.format(pred_sent_prob([['the', 'cat', 'bark', '.']])))\n",
    "\n",
    "    print('log prob of [boy am a i .]: {:3.3f}'.format(pred_sent_prob([['boy', 'am', 'a', 'i', '.']])))\n",
    "    print('log prob of [i am a boy .]: {:3.3f}'.format(pred_sent_prob([['i', 'am', 'a', 'boy', '.']])))\n"
   ]
  },
  {
   "cell_type": "markdown",
   "metadata": {},
   "source": [
    "# 과제2: 다음 단어 예측\n",
    "![다음단어예측](next_word.png)"
   ]
  },
  {
   "cell_type": "code",
   "execution_count": 20,
   "metadata": {},
   "outputs": [],
   "source": [
    "def pred_next_word(partial_sent, topN=3):\n",
    "    model.eval()\n",
    "    with torch.no_grad():\n",
    "        # 1. 모델 입력 및 정답 문장에 대한 단어 indexing\n",
    "        src,tgt = corpus.indexing(partial_sent)\n",
    "        \n",
    "        # 2. initial hidden 생성\n",
    "        hidden = model.init_hidden(bsz = 1)\n",
    "        \n",
    "        # 3. LM의 결과(확률분포) 생성\n",
    "        output, hidden = model(src, hidden)\n",
    "\n",
    "        # 4. topN에 해당하는 다음단어의 word index 추출 (Hint: torch.topk() 활용)\n",
    "        val, idx = torch.topk(output[-1], k = topN, dim = -1)\n",
    "        \n",
    "        # 5. word index --> word 로 변환\n",
    "        topN_words = [corpus.dictionary.idx2word[i] for i in idx]\n",
    "        \n",
    "        # 6. topN word list 반환 (return type: list)\n",
    "        return topN_words"
   ]
  },
  {
   "cell_type": "code",
   "execution_count": 23,
   "metadata": {},
   "outputs": [
    {
     "name": "stdout",
     "output_type": "stream",
     "text": [
      "Top 3 next words for a partial sentence [the next word] is: \n",
      "===> ['was', 'is', 'he']\n"
     ]
    }
   ],
   "source": [
    "partial_sent = [['the', 'next', 'word']]\n",
    "N=3\n",
    "candidates = pred_next_word(partial_sent, topN=N)\n",
    "\n",
    "# print \n",
    "partial_sent = ' '.join(partial_sent[0])\n",
    "print('Top {0} next words for a partial sentence [{1}] is: '.format(N, partial_sent))\n",
    "print('===>', candidates)"
   ]
  }
 ],
 "metadata": {
  "kernelspec": {
   "display_name": "Python 3",
   "language": "python",
   "name": "python3"
  },
  "language_info": {
   "codemirror_mode": {
    "name": "ipython",
    "version": 3
   },
   "file_extension": ".py",
   "mimetype": "text/x-python",
   "name": "python",
   "nbconvert_exporter": "python",
   "pygments_lexer": "ipython3",
   "version": "3.8.8"
  },
  "pycharm": {
   "stem_cell": {
    "cell_type": "raw",
    "metadata": {
     "collapsed": false
    },
    "source": []
   }
  }
 },
 "nbformat": 4,
 "nbformat_minor": 2
}
